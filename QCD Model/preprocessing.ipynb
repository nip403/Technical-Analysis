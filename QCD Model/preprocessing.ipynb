{
 "cells": [
  {
   "cell_type": "code",
   "execution_count": null,
   "metadata": {},
   "outputs": [],
   "source": [
    "import yfinance as yf\n",
    "import pandas as pd\n",
    "import numpy as np\n",
    "import matplotlib.pyplot as plt\n",
    "from sklearn.model_selection import train_test_split, GridSearchCV, StratifiedKFold, cross_val_score, RepeatedKFold\n",
    "from sklearn.preprocessing import OneHotEncoder, StandardScaler\n",
    "from sklearn.model_selection import cross_val_score, train_test_split\n",
    "from sklearn.feature_selection import RFECV\n",
    "from sklearn.tree import DecisionTreeClassifier, plot_tree\n",
    "from sklearn.linear_model import LinearRegression\n",
    "import statsmodels.api as sm\n",
    "import seaborn as sns\n",
    "from scipy.stats import spearmanr\n",
    "from datetime import datetime, timedelta\n",
    "from functools import partial"
   ]
  },
  {
   "cell_type": "code",
   "execution_count": null,
   "metadata": {},
   "outputs": [],
   "source": [
    "stocks = [yf.Ticker(i) for i in \"MSFT GOOGL AAPL TSLA META NVDA INTC PYPL KO AMZN\".split()]"
   ]
  },
  {
   "cell_type": "markdown",
   "metadata": {},
   "source": [
    "Calculate factor set for each stock, price trailing 12 months."
   ]
  },
  {
   "cell_type": "code",
   "execution_count": 119,
   "metadata": {},
   "outputs": [],
   "source": [
    "t1 = datetime.now()\n",
    "t0 = t1 - timedelta(days=365)\n",
    "\n",
    "def ffill_latest(d, quarterly):\n",
    "    for date in quarterly.index:\n",
    "        if date < d:\n",
    "            return quarterly.loc[date]\n",
    "        \n",
    "    return float('nan')\n",
    "\n",
    "mapper = lambda data, df: df.index.map(partial(ffill_latest, quarterly=data))\n",
    "\n",
    "def factors(tickers, start, end) -> pd.DataFrame:\n",
    "    all = {}\n",
    "    \n",
    "    for t in tickers:\n",
    "        price = t.history(start=start, end=end)[\"Close\"]\n",
    "        price.index = price.index.tz_localize(None)\n",
    "        \n",
    "        inc = t.quarterly_financials\n",
    "        bs = t.quarterly_balance_sheet\n",
    "        cf = t.quarterly_cashflow\n",
    "        \n",
    "        df_factors = pd.DataFrame(index=price.index)\n",
    "        df_factors[\"Returns\"] = price.pct_change().dropna()\n",
    "        mapped = partial(mapper, df=df_factors)\n",
    "        \n",
    "        ### value\n",
    "        # earnings yield-P/E ratio\n",
    "        df_factors[\"EPS\"] = mapped(inc.loc[\"Net Income\"]) / t.info[\"sharesOutstanding\"]\n",
    "        df_factors[\"P/E\"] = price / df_factors[\"EPS\"]\n",
    "        df_factors[\"PEG\"] = (price / (df_factors[\"EPS\"].pct_change() + 1)) / 100 # quarterly\n",
    "        \n",
    "        # p/s, p/b\n",
    "        df_factors[\"P/S\"] = (price * mapped(inc.loc[\"Diluted Average Shares\"])) / mapped(inc.loc[\"Total Revenue\"])   \n",
    "        df_factors[\"P/B\"] = (price * mapped(inc.loc[\"Diluted Average Shares\"])) / mapped(bs.loc[\"Tangible Book Value\"])\n",
    "        \n",
    "        ### Quality\n",
    "        # debt/equity\n",
    "        df_factors[\"D/E\"] = mapped(bs.loc[\"Total Debt\"] / bs.loc[\"Common Stock Equity\"])\n",
    "        df_factors[\"P/FCF\"] = (price * mapped(inc.loc[\"Diluted Average Shares\"])) / mapped(cf.loc[\"Free Cash Flow\"])\n",
    "        \n",
    "        all[t.ticker] = df_factors\n",
    "        \n",
    "    return all\n",
    "        \n",
    "factorset = factors(stocks, t0, t1)"
   ]
  },
  {
   "cell_type": "code",
   "execution_count": null,
   "metadata": {},
   "outputs": [],
   "source": [
    "s = StandardScaler()\n",
    "for k, v in factorset.items():\n",
    "    a = v[[\"Returns\"]]\n",
    "    b = v.drop(columns=[\"Returns\"])\n",
    "    t = s.fit_transform(X=a, y=b)\n",
    "    \n",
    "    print(v, t, t.shape)\n",
    "    \n",
    "    \n",
    "# why normalise x data?"
   ]
  },
  {
   "cell_type": "markdown",
   "metadata": {},
   "source": [
    "\"First pass\" Spearman correlation test"
   ]
  },
  {
   "cell_type": "code",
   "execution_count": null,
   "metadata": {},
   "outputs": [],
   "source": []
  }
 ],
 "metadata": {
  "kernelspec": {
   "display_name": "Python 3",
   "language": "python",
   "name": "python3"
  },
  "language_info": {
   "codemirror_mode": {
    "name": "ipython",
    "version": 3
   },
   "file_extension": ".py",
   "mimetype": "text/x-python",
   "name": "python",
   "nbconvert_exporter": "python",
   "pygments_lexer": "ipython3",
   "version": "3.11.4"
  }
 },
 "nbformat": 4,
 "nbformat_minor": 2
}
